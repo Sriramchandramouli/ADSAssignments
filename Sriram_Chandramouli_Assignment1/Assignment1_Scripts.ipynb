{
 "cells": [
  {
   "cell_type": "code",
   "execution_count": 18,
   "metadata": {
    "collapsed": false,
    "scrolled": true
   },
   "outputs": [
    {
     "name": "stdout",
     "output_type": "stream",
     "text": [
      "Correlation Coefficient are: [0.01527699095730025, 0.0883277396640967, 0.2333335724846086, 0.06352555428621241, -0.2123675943089142, 0.08809820019342364, 0.20347804628946436, -0.014822814034809808, -0.013532107820768103, -0.008221253246693117]\n",
      "Accuracy of Training data is: 0.704591836735\n",
      "Confusion Matrix for Testing data is: [[1488  607]\n",
      " [ 648 1457]]\n",
      "Accuracy of Testing data is: 0.70119047619\n"
     ]
    }
   ],
   "source": [
    "import numpy as np\n",
    "import pandas as pd\n",
    "from matplotlib import pyplot as plt\n",
    "from sklearn import tree\n",
    "from inspect import getmembers\n",
    "#from StringIO import StringIO\n",
    "from sklearn.tree import DecisionTreeClassifier\n",
    "from sklearn.cross_validation import train_test_split\n",
    "from sklearn.metrics import confusion_matrix\n",
    "from sklearn.metrics import classification_report\n",
    "from sklearn.metrics import accuracy_score\n",
    "from scipy.stats.stats import pearsonr  \n",
    "import seaborn as sns\n",
    "import pylab as pyl\n",
    "from sklearn.externals.six import StringIO\n",
    "import os\n",
    "from IPython.display import Image\n",
    "\n",
    "\n",
    "getDataset = pd.read_csv(\"D:\\\\Advanced Data Science\\\\Assignment1\\\\Churn.csv\")\n",
    "# print (getDataset.head())\n",
    "# print (getDataset.describe())\n",
    "\n",
    "D = {'very_unsat': 0, 'unsat': 1, 'avg': 2, 'sat': 3, 'very_sat': 4, 'very_little': 0, 'little': 1, 'high': 3, 'very_high': 4, 'actively_looking_into_it': 0, \n",
    "     'considering': 1, 'never_thought': 2, 'no': 3, 'perhaps': 4,  'zero': 0, 'one': 1,  'STAY': 0, 'LEAVE': 1}\n",
    "\n",
    "# Getting the values from input dataset and assigning the numbers to string values\n",
    "S = getDataset.applymap(lambda x:D.get(x) if x in D else x)\n",
    "\n",
    "features = S[[\"COLLEGE\",\"INCOME\",\"OVERAGE\",\"LEFTOVER\",\"HOUSE\",\"HANDSET_PRICE\",\"OVER_15MINS_CALLS_PER_MONTH\",\"AVERAGE_CALL_DURATION\",\n",
    "                      \"REPORTED_SATISFACTION\",\"REPORTED_USAGE_LEVEL\",\"CONSIDERING_CHANGE_OF_PLAN\"]]\n",
    "# Setting the target variable\n",
    "targetVarible = S.LEAVE\n",
    "\n",
    "# Initiating Dataframe\n",
    "df = pd.DataFrame(S)\n",
    "\n",
    "# Calculating the Correlation Coefficient\n",
    "corrList = []\n",
    "for i in range(0,11):\n",
    "    corr = np.corrcoef(df.iloc[:,i],targetVarible)\n",
    "    corrList.append(corr.item(1))\n",
    "print(\"Correlation Coefficient are:\",corrList[0:10])\n",
    "\n",
    "# Plotting bar graph for Correlation Coefficient values\n",
    "listX = [1,2,3,4,5,6,7,8,9,10,11]\n",
    "plt.barh(listX,corrList[:11],align='center')\n",
    "plt.yticks(listX, list(df.columns.values)[0:11])\n",
    "plt.tight_layout()\n",
    "plt.show()\n",
    "\n",
    "# Separating 70% of the data for training and remaining 30% for testing\n",
    "featureTrain, featureTest, targetTrain, targetTest = train_test_split(features, targetVarible, test_size=.30)\n",
    "\n",
    "# Creating Decision tree with entropy as criteria.\n",
    "model = tree.DecisionTreeClassifier(criterion=\"entropy\", max_depth=5, min_samples_leaf=5)\n",
    "fittedModel = model.fit(featureTrain, targetTrain)   #This will have 70 percent of training data fed with all columns other than target fed as first parameter and target fed as second parameter\n",
    "\n",
    "# Getting the decision tree\n",
    "dot_data = StringIO()  \n",
    "with open(\"tree.dot\", 'w') as dt:\n",
    "  dt = tree.export_graphviz(fittedModel, out_file=dt, feature_names=list(df.columns.values)) \n",
    "\n",
    "# Getting the predictions for training data and finding accuracy of them\n",
    "predictions_for_train = fittedModel.predict(featureTrain) \n",
    "print (\"Accuracy of Training data is:\",accuracy_score(targetTrain, predictions_for_train))\n",
    "\n",
    "# Getting the predictions for testing data and finding accuracy of them\n",
    "predictions = fittedModel.predict(featureTest)  #This will predict the test data that has column other than target\n",
    "\n",
    "# Getting the confusion matrix and accuracy of training data\n",
    "print (\"Confusion Matrix for Testing data is:\",confusion_matrix(targetTest, predictions))\n",
    "print (\"Accuracy of Testing data is:\",accuracy_score(targetTest, predictions))\n",
    "\n"
   ]
  },
  {
   "cell_type": "code",
   "execution_count": null,
   "metadata": {
    "collapsed": false
   },
   "outputs": [],
   "source": []
  },
  {
   "cell_type": "code",
   "execution_count": 22,
   "metadata": {
    "collapsed": false
   },
   "outputs": [],
   "source": [
    "# Information gain calculation\n",
    "def entropy(p_):\n",
    "  p = p_.copy()\n",
    "  p[p != 0] = - p[p != 0] * np.log2(p[p != 0] )\n",
    "  return p.sum()\n",
    "\n",
    "def information_gain(data):\n",
    "    entropy_smaller_val = entropy(data[0]/data[0].sum())\n",
    "    entropy_bigger_val = entropy(data[1]/data[1].sum())\n",
    "    entropy_before_split = entropy(data.sum(axis=0)/data.sum(axis=0).sum())\n",
    "    weights = data.sum(axis=1)/data.sum()\n",
    "    entropy_after_split = weights[0] * entropy_smaller_val + weights[1] * entropy_bigger_val\n",
    "    return entropy_before_split - entropy_after_split\n",
    "\n",
    "gainList = []\n",
    "for i in range(0,11):\n",
    "    inputdata = np.array([df.iloc[:,i],targetVarible])\n",
    "    IG = information_gain(inputdata)\n",
    "    #print(IG)\n",
    "    #print (\"Information Gain:\", information_gain(data))\n",
    "    gainList.append(IG)\n",
    "\n",
    "# Plotting the graph for Information Gain\n",
    "listXAxis = [1,2,3,4,5,6,7,8,9,10,11]\n",
    "\n",
    "plt.barh(listX,gainList[:11],align='center')\n",
    "plt.yticks(listX, list(df.columns.values)[0:11])\n",
    "plt.tight_layout()\n",
    "plt.show()\n"
   ]
  },
  {
   "cell_type": "code",
   "execution_count": null,
   "metadata": {
    "collapsed": true
   },
   "outputs": [],
   "source": []
  },
  {
   "cell_type": "code",
   "execution_count": null,
   "metadata": {
    "collapsed": true
   },
   "outputs": [],
   "source": []
  }
 ],
 "metadata": {
  "kernelspec": {
   "display_name": "Python 3",
   "language": "python",
   "name": "python3"
  },
  "language_info": {
   "codemirror_mode": {
    "name": "ipython",
    "version": 3
   },
   "file_extension": ".py",
   "mimetype": "text/x-python",
   "name": "python",
   "nbconvert_exporter": "python",
   "pygments_lexer": "ipython3",
   "version": "3.5.1"
  }
 },
 "nbformat": 4,
 "nbformat_minor": 0
}
